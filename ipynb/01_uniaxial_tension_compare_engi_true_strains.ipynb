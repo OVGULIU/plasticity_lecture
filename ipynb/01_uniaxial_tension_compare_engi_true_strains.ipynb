{
 "cells": [
  {
   "cell_type": "markdown",
   "metadata": {},
   "source": [
    "This notebook is written for a lecture titled **금속유동해석** given by Youngung Jeong at Department of Materials Science and Engineering, [Changwon National University](http://www.changwon.ac.kr).\n",
    "This notebook is based on a scientific tool called [Jupyter notebook](http://jupyter-notebook.readthedocs.io/en/latest/notebook.html). This notebook is written in [Python](http://www.python.org).\n",
    "\n",
    "- You will understand the difference between engineering and true strains and will find how they are correlated. \n",
    "- You will be also introduced how 'numerically' the true strain can be obtained, which essentially is based on the concept of engineering strain. \n",
    "- By comparing with the analytical solution of true strain, you'll find how 'integration' can be 'numerically' performed using a script written in Python\n",
    "\n",
    "\n",
    "해당 노트는 창원대학교 신소재공학부 **금속 유동 해석** 강의를 위해 쓰여졌습니다.\n",
    "\n",
    "엔지니어링 변형률과 트루 변형률의 차이를 이해하며 그 둘이 어떻게 서로 관련되어있는지 이해하게 될 것입니다. 그리고 트루 변형률이 어떻게 '수치적'으로 계산이 되는지 알아보고, 또한 그 방법이 엔지니어링 변형률과 밀접한 개념에 바탕을 두었다는 것을 알게 될 것입니다. 그로써, 적분이 수치적인 방법으로 계산되는 방법을 Python script를 통해 이해할 수 있을 것입니다.\n",
    "\n",
    "Contact info: [yjeong@changwon.ac.kr](mailto:yjeong@changwon.ac.kr)\n",
    "\n",
    "**Youngung Jeong**, PhD\n",
    "\n",
    "Assistant professor at Department of Metallurgy and Materials Science and Engineering\n",
    "\n",
    "Changwon National University"
   ]
  },
  {
   "cell_type": "markdown",
   "metadata": {},
   "source": [
    "# Pylab environment\n",
    "'pylab inline' gives an environment similar to Matlab. It imports various libraries including ([numpy](http://www.numpy.org), [scipy](http://www.scipy.org), and [matplotlib](http://matplotlib.org)). One can find more about thoses tools from the linked webpages."
   ]
  },
  {
   "cell_type": "markdown",
   "metadata": {},
   "source": [
    "아래의 **%pylab inline** 명령어는 순수한 Python 명령구문이 아니라, 해당 Notebook에서 다양한 library를 사용할 수 있도록 불러오며 또 그래프를 그릴 수 있게 해줍니다. Matlab과 비슷한 환경으로 마련해준다고 생각하면 쉽게 이해할 수 있을 것 같습니다."
   ]
  },
  {
   "cell_type": "code",
   "execution_count": null,
   "metadata": {
    "collapsed": false
   },
   "outputs": [],
   "source": [
    "%pylab inline"
   ]
  },
  {
   "cell_type": "markdown",
   "metadata": {},
   "source": [
    "## Problem description\n",
    "Let's assume that a rod-shaped sample that is initially 10 mm long.\n",
    "\n",
    "The rod is tensiled along its longitudinal direction for 10 seconds.\n",
    "After the tension, the tensile rod became 20 mm long. Let's say the initial and the final lengths are denoted as $l_0$ and $l_1$, respectively - see below line\n",
    "\n",
    "$l_0=10$ and $l_1=20$\n",
    "\n",
    "** Questions **\n",
    "1. What is the engineering strain?\n",
    "2. What is the true strain?\n",
    "3. How would you quantify the \"speed\" of strain?\n",
    "4. How would you make the test conducted under a **constant** speed of strain?"
   ]
  },
  {
   "cell_type": "markdown",
   "metadata": {},
   "source": [
    "### Engineering strain\n",
    "- Step 1: Assigning $l_0$, $l_1$ and $t$ for initial and final lengths of the rod, and the time elapsed during the deformation"
   ]
  },
  {
   "cell_type": "code",
   "execution_count": null,
   "metadata": {
    "collapsed": true
   },
   "outputs": [],
   "source": [
    "l0=10   # Assign the initial length to l0\n",
    "l1=20   # Assign the final length to l1\n",
    "time=10 # Elapsed time for the tensile deformation"
   ]
  },
  {
   "cell_type": "markdown",
   "metadata": {},
   "source": [
    "Check those saved variables by \"printing\" them "
   ]
  },
  {
   "cell_type": "code",
   "execution_count": null,
   "metadata": {
    "collapsed": false
   },
   "outputs": [],
   "source": [
    "print l0\n",
    "print l1\n",
    "print time"
   ]
  },
  {
   "cell_type": "markdown",
   "metadata": {},
   "source": [
    "- Step 2: Let's calculate the engineering strain, which is defined as:\n",
    "\n",
    "$\\epsilon=\\frac{l_1-l_0}{l_0}$"
   ]
  },
  {
   "cell_type": "code",
   "execution_count": null,
   "metadata": {
    "collapsed": false
   },
   "outputs": [],
   "source": [
    "engi_strain = (l1-l0)/l0\n",
    "print 'engineering strain:', engi_strain\n",
    "print 'engineering strain [in percent]:', engi_strain*100, '[%]'"
   ]
  },
  {
   "cell_type": "markdown",
   "metadata": {},
   "source": [
    "- Discussion"
   ]
  },
  {
   "cell_type": "markdown",
   "metadata": {},
   "source": [
    "## Deformation consisting of incremental changes"
   ]
  },
  {
   "cell_type": "markdown",
   "metadata": {},
   "source": [
    "The deformation, during which the rod is elogated to 20 mm 'seemingly' at a constant speed, can be viewed as an incremental procedure. By an incremental procedure, I mean the process of deformation can be viewed as many steps along the time - it surely would require some time for you to stretch the rod, right?\n",
    "\n",
    "\n",
    "As such, the whole deformation can be regarded as a procedure consisting of several 'time' steps.\n",
    "Since we assumed that the deformation of our interest takes 10 seconds ($ t=10$ [sec]), the velocity of the one end of the rod can be naturally estimated through:\n",
    "\n",
    "$v=(l_1-l_0)/t$\n",
    "\n",
    "Thus, the velocity becomes:"
   ]
  },
  {
   "cell_type": "code",
   "execution_count": null,
   "metadata": {
    "collapsed": false
   },
   "outputs": [],
   "source": [
    "time = 10\n",
    "v=(l1-l0)/time\n",
    "print 'velocity:', v, '[mm/s]'"
   ]
  },
  {
   "cell_type": "markdown",
   "metadata": {},
   "source": [
    "**Discussion**\n",
    "\n",
    "If we assume that this velocity remains constant, we can say that the rod was stretched at a constant speed, is that right? (fact-check)"
   ]
  },
  {
   "cell_type": "markdown",
   "metadata": {},
   "source": [
    "## Let's plot (visualize) the change of length with respect to time.\n",
    " - Remember the speed ($v$) is assumed to remain constant\n",
    " - We will use a function 'plot'\n",
    " - Plot needs at least, two inputs: (x0,y0) and (x1,y1); x0 and x1 are initial and final times where y0 and y1 denote initial and final lengths of the rod, respectively.\n",
    " - We will use 'list' variable that has two elements. A list variable is usually constructed by a paired bracekts such as [1,2], which contains two elements, i.e., 1 and 2."
   ]
  },
  {
   "cell_type": "code",
   "execution_count": null,
   "metadata": {
    "collapsed": false
   },
   "outputs": [],
   "source": [
    "plot([0,time],[l0,l1])   ## Draw a line connecting two coordinates (0,l0) and (time,l1)\n",
    "\n",
    "# Decorating the x and y labels attached to the horizontal and vertical axes\n",
    "xlabel('time [second]')\n",
    "ylabel('Length of the rod under tension [mm]')"
   ]
  },
  {
   "cell_type": "markdown",
   "metadata": {},
   "source": [
    "Let's say we are interested in the change made within an time increment denoted as $dt$.\n",
    "Likewise, the incremental length change (denoted as $dl$) is obtained by \n",
    "\n",
    "$dl = v \\cdot dt$\n",
    "\n",
    "If the lengthal change remains constant, v should be constant as well, i.e.,\n",
    "\n",
    "$\\frac{dl}{dt}=v=constant$"
   ]
  },
  {
   "cell_type": "markdown",
   "metadata": {},
   "source": [
    "- Case with a single deformation step (the case for obtaining the engineering strain) - the reference length ($l_0$) is not updated."
   ]
  },
  {
   "cell_type": "code",
   "execution_count": null,
   "metadata": {
    "collapsed": false
   },
   "outputs": [],
   "source": [
    "step_numbers=10\n",
    "\n",
    "time_stamps=np.linspace(0,10,step_numbers+1)\n",
    "print time_stamps"
   ]
  },
  {
   "cell_type": "code",
   "execution_count": null,
   "metadata": {
    "collapsed": false
   },
   "outputs": [],
   "source": [
    "step_numbers=10\n",
    "\n",
    "time_stamps=np.linspace(0,10,step_numbers+1)\n",
    "current_time=0.\n",
    "for i in xrange(len(time_stamps)):\n",
    "    l=l0+v*time_stamps[i]\n",
    "    plot([time_stamps[i],time_stamps[i]],[l0,l],c='gray',ls='-')\n",
    "    \n",
    "    if i!=0:\n",
    "        x=time_stamps[i]\n",
    "        y=l0+x*v\n",
    "        text(x-0.2,y+0.2,r'$\\epsilon^{%i}$'%i)\n",
    "\n",
    "plot([0,l0],[time,l1])\n",
    "xlabel('time [second]')\n",
    "ylabel('Length of the rod under tension [mm]')"
   ]
  },
  {
   "cell_type": "markdown",
   "metadata": {},
   "source": [
    "- Case with two deformation steps - the reference length ($l_0$) is updated just once."
   ]
  },
  {
   "cell_type": "code",
   "execution_count": null,
   "metadata": {
    "collapsed": false
   },
   "outputs": [],
   "source": [
    "step_numbers=10\n",
    "\n",
    "time_stamps=np.linspace(0,10,step_numbers+1)\n",
    "current_time=0.\n",
    "for i in xrange(len(time_stamps)):\n",
    "    l=l0+v*time_stamps[i]\n",
    "    plot([time_stamps[i],time_stamps[i]],[l0,l],c='gray',ls='-')\n",
    "    \n",
    "    if i!=0:\n",
    "        x=time_stamps[i]\n",
    "        y=l0+x*v\n",
    "        text(x-0.2,y+0.2,r'$\\epsilon^{%i}$'%i)\n",
    "\n",
    "plot([0,l0],[time,l1])\n",
    "xlabel('time [second]')\n",
    "ylabel('Length of the rod under tension [mm]')"
   ]
  },
  {
   "cell_type": "markdown",
   "metadata": {},
   "source": [
    "### Question 1.\n",
    "What is the amount of engineering strain?"
   ]
  },
  {
   "cell_type": "markdown",
   "metadata": {},
   "source": [
    "- Case with 10 steps"
   ]
  },
  {
   "cell_type": "code",
   "execution_count": null,
   "metadata": {
    "collapsed": false
   },
   "outputs": [],
   "source": [
    "step_numbers=10\n",
    "\n",
    "time_stamps=np.linspace(0,10,step_numbers+1)\n",
    "current_time=0.\n",
    "for i in xrange(len(time_stamps)):\n",
    "    l=l0+v*time_stamps[i]\n",
    "    plot([time_stamps[i],time_stamps[i]],[l0,l],c='gray',ls='-')\n",
    "    if i!=0:\n",
    "        x=time_stamps[i]\n",
    "        y=l0+x*v\n",
    "        text(x-0.2,y+0.2,r'$\\epsilon^{%i}$'%i)\n",
    "\n",
    "plot([0,l0],[time,l1])\n",
    "xlabel('time [second]')\n",
    "ylabel('Length of the rod under tension [mm]')"
   ]
  },
  {
   "cell_type": "markdown",
   "metadata": {},
   "source": [
    "The total amount of strain after the entire deformation can be obtained by summing all the strain increment collected at the numerical steps.\n",
    "\n",
    "$\\epsilon^{total}=\\sum_i^n {\\epsilon^t}$\n",
    "\n",
    "Let's use $\\frac{l_1-l_0}{l_0}$ for strain for each time stamp ($dt$)"
   ]
  },
  {
   "cell_type": "code",
   "execution_count": null,
   "metadata": {
    "collapsed": false
   },
   "outputs": [],
   "source": [
    "def numer_calc(step_number=10):\n",
    "    \"\"\"\n",
    "    Numerically calculate the engineering strain\n",
    "    \n",
    "    Argument\n",
    "    --------\n",
    "    step_number: the number of steps used to obtain the step-wise increment of the entire deformation\n",
    "    \"\"\"\n",
    "    time_stamps=np.linspace(0,10,step_number+1)\n",
    "    \n",
    "    ## initial states\n",
    "    current_time=0.\n",
    "    accumulative_strain=0.\n",
    "    aeps=[]\n",
    "    eps_increment=[]\n",
    "    \n",
    "    for i in xrange(len(time_stamps)):\n",
    "        l=l0+v*time_stamps[i] ## the length of rod pertaining to current time_stamp\n",
    "\n",
    "        if i!=0: # i=0 is the state without strain (so skipped)\n",
    "            x = time_stamps[i]\n",
    "            l_now = l0 + x*v   ## current length = l0 + time * v\n",
    "\n",
    "            # engineering strain for this step\n",
    "            x0 = time_stamps[i-1] ## time pertaining to 'previous' (or reference)\n",
    "            l_last = l0+x0*v      ## the length of rod pertaining to the last step\n",
    "            e_now = (l_now - l_last)/l_last ## step-wise strain increment following the definition of 'engineering' strain\n",
    "\n",
    "            ## accumulative engineering strains\n",
    "            accumulative_strain=accumulative_strain+e_now  ## summation of strain increments.\n",
    "            aeps.append(accumulative_strain)\n",
    "            eps_increment.append(e_now)\n",
    "            \n",
    "    ## returns time stamps, accumulative strains, and incremental strain (using the definition of engineering strain)\n",
    "    return time_stamps, aeps, eps_increment\n",
    "\n",
    "## test\n",
    "#time_stamps, aeps,eps_increment = numer_calc(10)"
   ]
  },
  {
   "cell_type": "code",
   "execution_count": null,
   "metadata": {
    "collapsed": false
   },
   "outputs": [],
   "source": [
    "time_stamps, aeps, eps_increment = numer_calc(10)\n",
    "         \n",
    "### Decos\n",
    "fig=plt.figure(figsize=(15,4))\n",
    "ax1=fig.add_subplot(131)\n",
    "ax2=fig.add_subplot(132)\n",
    "ax3=fig.add_subplot(133)\n",
    "\n",
    "for i in xrange(len(time_stamps)-1):\n",
    "    l=l0+v*time_stamps[i+1]\n",
    "    ax1.plot([time_stamps[i+1],time_stamps[i+1]],[l0,l],c='gray',ls='-')\n",
    "    x=time_stamps[i+1]\n",
    "    y=eps_increment[i]\n",
    "    ax1.text(x-0.6,l+0.3,r'$\\epsilon^{%i}$=%.3f'%(i,y))\n",
    "    ax2.bar(x,y,color='k')\n",
    "\n",
    "ax1.plot([0,l0],[time,l1])\n",
    "ax3.bar(time_stamps[1:],aeps)\n",
    "ax3.text(time_stamps[-1],aeps[-1],r'$\\sum_i^n \\epsilon^i$=%.3f'%(aeps[-1]),ha='center')\n",
    "\n",
    "## decorations\n",
    "ax1.set_xlabel('time [second]')\n",
    "ax1.set_ylabel('Length of the rod under tension [mm]')        \n",
    "ax2.set_xlabel('time [second]')\n",
    "ax3.set_xlabel('time [second]')\n",
    "ax2.set_ylabel('Incremental engineering strain')\n",
    "ax3.set_ylabel('Accumulative engineering strain')\n",
    "ax1.set_xlim(0,13);ax1.set_ylim(10,22);\n",
    "ax2.set_xlim(0,13)\n",
    "tight_layout()"
   ]
  },
  {
   "cell_type": "code",
   "execution_count": null,
   "metadata": {
    "collapsed": false
   },
   "outputs": [],
   "source": [
    "print aeps[-1]"
   ]
  },
  {
   "cell_type": "markdown",
   "metadata": {},
   "source": [
    "- How to impose this increment by diving the summation for the infinite number of steps?\n",
    "- Mathematicians dev"
   ]
  },
  {
   "cell_type": "markdown",
   "metadata": {},
   "source": [
    "We all know the 'exact' solution (i.e., the analytical solution):\n",
    "\n",
    "$\\varepsilon=\\ln{l_1}-\\ln{l_0}$\n",
    "\n",
    "This is actually derived from\n",
    "\n",
    "$\\int_{l_0}^{l_1} \\frac{dl}{l}=\\int_{l_0}^{l_1} d(\\ln{l})=\\ln{l_1}-\\ln{l_0}$"
   ]
  },
  {
   "cell_type": "markdown",
   "metadata": {},
   "source": [
    "- We can now **analytically** obtain true strain"
   ]
  },
  {
   "cell_type": "code",
   "execution_count": null,
   "metadata": {
    "collapsed": false
   },
   "outputs": [],
   "source": [
    "# Note that <np.log> is the natural logarithmic function.\n",
    "true_strain=np.log(l1)-np.log(l0)\n",
    "print 'true_strain:',true_strain"
   ]
  },
  {
   "cell_type": "markdown",
   "metadata": {},
   "source": [
    "### Sanity check\n",
    "$\\ln(e)$ should be 1. where $e$ refers to the Euler's number (i.e., 2.7182818 ... )"
   ]
  },
  {
   "cell_type": "code",
   "execution_count": null,
   "metadata": {
    "collapsed": false
   },
   "outputs": [],
   "source": [
    "# sanity check: \n",
    "print \"Euler's number: \", np.e\n",
    "print np.log(np.e), ': this value should be one'"
   ]
  },
  {
   "cell_type": "markdown",
   "metadata": {},
   "source": [
    "## Influence of 'discretization?'"
   ]
  },
  {
   "cell_type": "code",
   "execution_count": null,
   "metadata": {
    "collapsed": false
   },
   "outputs": [],
   "source": [
    "maxn=100\n",
    "x=[]\n",
    "y=[]\n",
    "for i in xrange(1,maxn):\n",
    "    time_stamps, aeps, eps_increment = numer_calc(i)\n",
    "    x.append(i)\n",
    "    y.append(aeps[-1]) ## adding the 'last' element in <aeps>, which was returned from <def numer_calc>\n",
    "\n",
    "## Visualization\n",
    "plot(x,y,'k-',label='Numerically obtained')\n",
    "plot([1,maxn],[true_strain,true_strain],'b--',label='True Strain (analytically obtained)')\n",
    "plot([1,maxn],[engi_strain,engi_strain],'r--',label='Engineering Strain (analytically obtained)')\n",
    "\n",
    "xlabel('The number of discrete steps')\n",
    "ylabel('Strains')\n",
    "legend() ## put the legend box inside the figure"
   ]
  },
  {
   "cell_type": "markdown",
   "metadata": {},
   "source": [
    "Let's graphically compare the analytical solution with the 'numerical' approach"
   ]
  },
  {
   "cell_type": "markdown",
   "metadata": {},
   "source": [
    "## Assignment\n",
    "We talked about deformation and two different types of strain measures (i.e., engineering and true strains). We wondered how to measure the 'speed' of deformation. One good excercise is to measure the velocity (which was defined as the length change with respect to time, i.e., $\\frac{dl}{dt}$). One can also use a different measure for deformation \"speed\", which is called 'strain rate'. Since we have studied two different measures of strain, the strain rate can be also defined using either engineering or true strain.\n",
    "\n",
    "\n",
    "As the problem stated in the beginning of this notebook, please quantify how the two strain rates differ, and how they are changing with respect to time (under the condition stated in the problem description - the velocity remains constant $\\frac{dl}{dt}$=1 [mm/s])."
   ]
  }
 ],
 "metadata": {
  "kernelspec": {
   "display_name": "Python [default]",
   "language": "python",
   "name": "python2"
  },
  "language_info": {
   "codemirror_mode": {
    "name": "ipython",
    "version": 2
   },
   "file_extension": ".py",
   "mimetype": "text/x-python",
   "name": "python",
   "nbconvert_exporter": "python",
   "pygments_lexer": "ipython2",
   "version": "2.7.13"
  }
 },
 "nbformat": 4,
 "nbformat_minor": 2
}
