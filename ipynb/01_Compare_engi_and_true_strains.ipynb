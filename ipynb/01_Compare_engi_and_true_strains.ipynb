{
 "cells": [
  {
   "cell_type": "markdown",
   "metadata": {},
   "source": [
    "This notebook is written for a lecture titled **금속유동해석** given by Youngung Jeong at Department of Materials Science and Engineering, [Changwon National University](http://www.changwon.ac.kr).\n",
    "This notebook is based on a scientific tool called [Jupyter notebook](http://jupyter-notebook.readthedocs.io/en/latest/notebook.html). This notebook is written in [Python](http://www.python.org).\n",
    "\n",
    "- You will understand the difference between engineering and true strains and will find how they are correlated. \n",
    "- You will be also introduced how 'numerically' the true strain can be obtained, which essentially is based on the concept of engineering strain. \n",
    "- Through this example designed to learn the concept of strain, you'll also find how 'integration' can be 'numerically' obtained using a step-by-step basis.\n",
    "\n",
    "\n",
    "해당 노트는 창원대학교 신소재공학부 **금속 유동 해석** 강의를 위해 쓰여졌습니다.\n",
    "\n",
    "엔지니어링 변형률과 트루 변형률의 차이를 이해하며 그 둘이 어떻게 서로 관련되어있는지 이해하게 될 것입니다. 그리고 트루 변형률이 어떻게 '수치적'으로 계산이 되는지 알아보고, 또한 그 방법이 엔지니어링 변형률에 바탕을 두었다는 것을 알게 될 것입니다. 이를 보여주기 위해 어떻게 수치적으로 (numerically) 적분을 수행하고 계산할 수 있는지 Python script를 통해 알아볼 것입니다.\n",
    "\n",
    "Contact info: [yjeong@changwon.ac.kr](mailto:yjeong@changwon.ac.kr)\n",
    "\n",
    "기타 수업과 관련된 질문들은 되도록이면 와글의 커뮤니티를 사용하세요.\n",
    "\n",
    "**Youngung Jeong**, PhD\n",
    "\n",
    "Assistant professor at Department of Metallurgy and Materials Science and Engineering\n",
    "\n",
    "Changwon National University"
   ]
  },
  {
   "cell_type": "markdown",
   "metadata": {},
   "source": [
    "# Pylab environment\n",
    "'pylab inline' gives an environment similar to [Matlab](https://www.mathworks.com/products/matlab.html). It imports various libraries including ([NumPy](http://www.numpy.org), [SciPy](http://www.scipy.org), and [matplotlib](http://matplotlib.org)). One can find more about thoses tools from the linked webpages."
   ]
  },
  {
   "cell_type": "markdown",
   "metadata": {},
   "source": [
    "아래의 **%pylab inline** 명령어는 순수한 Python 명령구문이 아니라, 해당 Notebook에서 다양한 library를 사용할 수 있도록 불러오며 또 그래프를 그릴 수 있게 해줍니다. Matlab과 비슷한 환경으로 마련해준다고 생각하면 쉽게 이해할 수 있을 것 같습니다."
   ]
  },
  {
   "cell_type": "code",
   "execution_count": 1,
   "metadata": {
    "collapsed": false
   },
   "outputs": [
    {
     "name": "stdout",
     "output_type": "stream",
     "text": [
      "Populating the interactive namespace from numpy and matplotlib\n"
     ]
    }
   ],
   "source": [
    "%pylab inline"
   ]
  },
  {
   "cell_type": "markdown",
   "metadata": {},
   "source": [
    "## Problem description\n",
    "Let's assume that a rod-shaped sample that is initially 10 mm long.\n",
    "\n",
    "The rod is tensiled along its longitudinal direction for 10 seconds.\n",
    "After the tension, the tensile rod became 20 mm long. Let's say the initial and the final lengths are denoted as $l_0$ and $l_1$, respectively - see below line\n",
    "\n",
    "$l_0=10$ and $l_1=20$\n",
    "\n",
    "** Questions **\n",
    "1. What is the engineering strain?\n",
    "2. What is the true strain?\n",
    "3. How would you quantify the \"speed\" of strain?\n",
    "4. How would you make the test conducted under a **constant** speed of strain?"
   ]
  },
  {
   "cell_type": "markdown",
   "metadata": {},
   "source": [
    "### Engineering strain\n",
    "- Step 1: Assigning $l_0$, $l_1$ and $t$ for initial, final lengths of the rod, and the time elapsed during the deformation, respectively."
   ]
  },
  {
   "cell_type": "code",
   "execution_count": 2,
   "metadata": {
    "collapsed": true
   },
   "outputs": [],
   "source": [
    "l0=10   # Assign the initial length to l0\n",
    "l1=20   # Assign the final length to l1\n",
    "time=10 # Elapsed time for the tensile deformation"
   ]
  },
  {
   "cell_type": "markdown",
   "metadata": {},
   "source": [
    "- **Sanity check**: print the above variables to see if they were correctly *stored*."
   ]
  },
  {
   "cell_type": "code",
   "execution_count": 3,
   "metadata": {
    "collapsed": false
   },
   "outputs": [
    {
     "name": "stdout",
     "output_type": "stream",
     "text": [
      "10\n",
      "20\n",
      "10\n"
     ]
    }
   ],
   "source": [
    "print l0\n",
    "print l1\n",
    "print time"
   ]
  },
  {
   "cell_type": "markdown",
   "metadata": {},
   "source": [
    "- Step 2: Let's calculate the engineering strain ($\\epsilon$), which is defined as:\n",
    "\n",
    "$\\epsilon=\\frac{l_1-l_0}{l_0}$"
   ]
  },
  {
   "cell_type": "code",
   "execution_count": 4,
   "metadata": {
    "collapsed": false
   },
   "outputs": [
    {
     "name": "stdout",
     "output_type": "stream",
     "text": [
      "engineering strain: 1\n",
      "engineering strain [in percent]: 100 [%]\n"
     ]
    }
   ],
   "source": [
    "engi_strain = (l1-l0)/l0\n",
    "print 'engineering strain:', engi_strain\n",
    "print 'engineering strain [in percent]:', engi_strain*100, '[%]'"
   ]
  },
  {
   "cell_type": "markdown",
   "metadata": {},
   "source": [
    "- Discussion"
   ]
  },
  {
   "cell_type": "markdown",
   "metadata": {},
   "source": [
    "## Deformation consisting of incremental changes"
   ]
  },
  {
   "cell_type": "markdown",
   "metadata": {},
   "source": [
    "The deformation, during which the rod is elogated to 20 mm 'seemingly' at a constant speed, can be viewed as an incremental procedure. By an incremental procedure, I mean the process of deformation can be viewed as many steps along the time - it surely would require some time for you to stretch the rod, right?\n",
    "\n",
    "\n",
    "As such, the whole deformation can be regarded as a procedure consisting of several 'time' steps.\n",
    "Since we assumed that the deformation of our interest takes 10 seconds ($ t=10$ [sec]), the velocity of the one end of the rod can be naturally estimated through:\n",
    "\n",
    "$v=(l_1-l_0)/t$\n",
    "\n",
    "Thus, the velocity becomes:"
   ]
  },
  {
   "cell_type": "code",
   "execution_count": 5,
   "metadata": {
    "collapsed": false
   },
   "outputs": [
    {
     "name": "stdout",
     "output_type": "stream",
     "text": [
      "velocity: 1 [mm/s]\n"
     ]
    }
   ],
   "source": [
    "time = 10\n",
    "v=(l1-l0)/time\n",
    "print 'velocity:', v, '[mm/s]'"
   ]
  },
  {
   "cell_type": "markdown",
   "metadata": {},
   "source": [
    "**Discussion**\n",
    "\n",
    "If we assume that this velocity remains constant, we can say that the rod was stretched at a constant speed, is that right? (fact-check)"
   ]
  },
  {
   "cell_type": "markdown",
   "metadata": {},
   "source": [
    "## Let's plot (visualize) the change of length with respect to time.\n",
    " - Remember the speed ($v$) is assumed to remain constant\n",
    " - We will use a function 'plot'\n",
    " - Plot needs at least, two inputs: (x0,y0) and (x1,y1); x0 and x1 are initial and final times where y0 and y1 denote initial and final lengths of the rod, respectively.\n",
    " - We will use 'list' variable that has two elements. A list variable is usually constructed by a paired bracekts such as [1,2], which contains two elements, i.e., 1 and 2."
   ]
  },
  {
   "cell_type": "code",
   "execution_count": 6,
   "metadata": {
    "collapsed": false
   },
   "outputs": [
    {
     "data": {
      "text/plain": [
       "<matplotlib.text.Text at 0x1151c90d0>"
      ]
     },
     "execution_count": 6,
     "metadata": {},
     "output_type": "execute_result"
    },
    {
     "data": {
      "image/png": "[encoded data removed]",
      "text/plain": [
       "<matplotlib.figure.Figure at 0x111de0a50>"
      ]
     },
     "metadata": {},
     "output_type": "display_data"
    }
   ],
   "source": [
    "plot([0,time],[l0,l1])   ## Draw a line connecting two coordinates (0,l0) and (time,l1)\n",
    "\n",
    "# Decorating the x and y labels attached to the horizontal and vertical axes\n",
    "xlabel('time [second]')\n",
    "ylabel('Length of the rod under tension [mm]')\n",
    "title('Figure 1.')"
   ]
  },
  {
   "cell_type": "markdown",
   "metadata": {},
   "source": [
    "Let's say we are interested in the change made within an time increment denoted as $dt$.\n",
    "Likewise, the incremental length change (denoted as $dl$) is obtained by \n",
    "\n",
    "$dl = v \\cdot dt$\n",
    "\n",
    "If the lengthal change remains constant, v should be constant as well, i.e.,\n",
    "\n",
    "$\\frac{dl}{dt}=v=constant$"
   ]
  },
  {
   "cell_type": "markdown",
   "metadata": {},
   "source": [
    "- Case with a single deformation step (the case for obtaining the engineering strain) - the reference length ($l_0$) is not updated."
   ]
  },
  {
   "cell_type": "code",
   "execution_count": 7,
   "metadata": {
    "collapsed": false
   },
   "outputs": [
    {
     "name": "stdout",
     "output_type": "stream",
     "text": [
      "[  0.   1.   2.   3.   4.   5.   6.   7.   8.   9.  10.]\n"
     ]
    }
   ],
   "source": [
    "step_numbers=10\n",
    "\n",
    "time_stamps=np.linspace(0,10,step_numbers+1)\n",
    "print time_stamps"
   ]
  },
  {
   "cell_type": "markdown",
   "metadata": {},
   "source": [
    "- np.linspace generates a ndarray type variable with its elements filled by a set of numbers increasing from the given first value to the latter. \n",
    "np.linspace 펑션은 주어진 첫번째 값(start)과 두번째 값(stop) 사이의 숫자들을 element로 하는 ndarray 변수를 생성합니다. 이때, 만약 세번째 값 (num)이 주어지면, 세번째 값 (정수값) 만큼의 개수로 숫자를 같은 간격으로 생성합니다.\n",
    "\n",
    "예를 들어,\n",
    "\n",
    "np.linspace(0,1)\n",
    "\n",
    "는 0과 1 사이에 (그들을 포함한) 숫자 50개를 생성합니다."
   ]
  },
  {
   "cell_type": "code",
   "execution_count": 8,
   "metadata": {
    "collapsed": false
   },
   "outputs": [
    {
     "name": "stdout",
     "output_type": "stream",
     "text": [
      "Help on function linspace in module numpy.core.function_base:\n",
      "\n",
      "linspace(start, stop, num=50, endpoint=True, retstep=False, dtype=None)\n",
      "    Return evenly spaced numbers over a specified interval.\n",
      "    \n",
      "    Returns `num` evenly spaced samples, calculated over the\n",
      "    interval [`start`, `stop`].\n",
      "    \n",
      "    The endpoint of the interval can optionally be excluded.\n",
      "    \n",
      "    Parameters\n",
      "    ----------\n",
      "    start : scalar\n",
      "        The starting value of the sequence.\n",
      "    stop : scalar\n",
      "        The end value of the sequence, unless `endpoint` is set to False.\n",
      "        In that case, the sequence consists of all but the last of ``num + 1``\n",
      "        evenly spaced samples, so that `stop` is excluded.  Note that the step\n",
      "        size changes when `endpoint` is False.\n",
      "    num : int, optional\n",
      "        Number of samples to generate. Default is 50. Must be non-negative.\n",
      "    endpoint : bool, optional\n",
      "        If True, `stop` is the last sample. Otherwise, it is not included.\n",
      "        Default is True.\n",
      "    retstep : bool, optional\n",
      "        If True, return (`samples`, `step`), where `step` is the spacing\n",
      "        between samples.\n",
      "    dtype : dtype, optional\n",
      "        The type of the output array.  If `dtype` is not given, infer the data\n",
      "        type from the other input arguments.\n",
      "    \n",
      "        .. versionadded:: 1.9.0\n",
      "    \n",
      "    Returns\n",
      "    -------\n",
      "    samples : ndarray\n",
      "        There are `num` equally spaced samples in the closed interval\n",
      "        ``[start, stop]`` or the half-open interval ``[start, stop)``\n",
      "        (depending on whether `endpoint` is True or False).\n",
      "    step : float\n",
      "        Only returned if `retstep` is True\n",
      "    \n",
      "        Size of spacing between samples.\n",
      "    \n",
      "    \n",
      "    See Also\n",
      "    --------\n",
      "    arange : Similar to `linspace`, but uses a step size (instead of the\n",
      "             number of samples).\n",
      "    logspace : Samples uniformly distributed in log space.\n",
      "    \n",
      "    Examples\n",
      "    --------\n",
      "    >>> np.linspace(2.0, 3.0, num=5)\n",
      "        array([ 2.  ,  2.25,  2.5 ,  2.75,  3.  ])\n",
      "    >>> np.linspace(2.0, 3.0, num=5, endpoint=False)\n",
      "        array([ 2. ,  2.2,  2.4,  2.6,  2.8])\n",
      "    >>> np.linspace(2.0, 3.0, num=5, retstep=True)\n",
      "        (array([ 2.  ,  2.25,  2.5 ,  2.75,  3.  ]), 0.25)\n",
      "    \n",
      "    Graphical illustration:\n",
      "    \n",
      "    >>> import matplotlib.pyplot as plt\n",
      "    >>> N = 8\n",
      "    >>> y = np.zeros(N)\n",
      "    >>> x1 = np.linspace(0, 10, N, endpoint=True)\n",
      "    >>> x2 = np.linspace(0, 10, N, endpoint=False)\n",
      "    >>> plt.plot(x1, y, 'o')\n",
      "    [<matplotlib.lines.Line2D object at 0x...>]\n",
      "    >>> plt.plot(x2, y + 0.5, 'o')\n",
      "    [<matplotlib.lines.Line2D object at 0x...>]\n",
      "    >>> plt.ylim([-0.5, 1])\n",
      "    (-0.5, 1)\n",
      "    >>> plt.show()\n",
      "\n"
     ]
    }
   ],
   "source": [
    "help(np.linspace)"
   ]
  },
  {
   "cell_type": "code",
   "execution_count": 9,
   "metadata": {
    "collapsed": false
   },
   "outputs": [
    {
     "data": {
      "text/plain": [
       "<matplotlib.text.Text at 0x115345950>"
      ]
     },
     "execution_count": 9,
     "metadata": {},
     "output_type": "execute_result"
    },
    {
     "data": {
      "image/png": "[encoded data removed]",
      "text/plain": [
       "<matplotlib.figure.Figure at 0x111de0690>"
      ]
     },
     "metadata": {},
     "output_type": "display_data"
    }
   ],
   "source": [
    "step_numbers=1\n",
    "\n",
    "time_stamps=np.linspace(0,10,step_numbers+1)\n",
    "for i in xrange(len(time_stamps)):\n",
    "    l=l0+v*time_stamps[i]\n",
    "    plot([time_stamps[i],time_stamps[i]],[l0,l],c='gray',ls='-')\n",
    "    \n",
    "    if i!=0:\n",
    "        x=time_stamps[i]\n",
    "        y=l0+x*v\n",
    "        text(x-0.2,y+0.2,r'$\\epsilon^{%i}$'%i)\n",
    "\n",
    "plot([0,l0],[time,l1])\n",
    "xlabel('time [second]')\n",
    "ylabel('Length of the rod under tension [mm]')\n",
    "title('Figure 2')"
   ]
  },
  {
   "cell_type": "markdown",
   "metadata": {},
   "source": [
    "- Case with two deformation steps - the reference length ($l_0$) is updated just once."
   ]
  },
  {
   "cell_type": "code",
   "execution_count": 10,
   "metadata": {
    "collapsed": false
   },
   "outputs": [
    {
     "data": {
      "text/plain": [
       "<matplotlib.text.Text at 0x115614350>"
      ]
     },
     "execution_count": 10,
     "metadata": {},
     "output_type": "execute_result"
    },
    {
     "data": {
      "image/png": "[encoded data removed]",
      "text/plain": [
       "<matplotlib.figure.Figure at 0x1152de210>"
      ]
     },
     "metadata": {},
     "output_type": "display_data"
    }
   ],
   "source": [
    "step_numbers=10\n",
    "\n",
    "time_stamps=np.linspace(0,10,step_numbers+1)\n",
    "current_time=0.\n",
    "for i in xrange(len(time_stamps)):\n",
    "    l=l0+v*time_stamps[i]\n",
    "    plot([time_stamps[i],time_stamps[i]],[l0,l],c='gray',ls='-')\n",
    "    \n",
    "    if i!=0:\n",
    "        x=time_stamps[i]\n",
    "        y=l0+x*v\n",
    "        text(x-0.2,y+0.2,r'$\\Delta\\epsilon^{%i}$'%i)\n",
    "        text(x-0.7,l0,r'$\\Delta t^{%i}$'%i)\n",
    "\n",
    "plot([0,l0],[time,l1])\n",
    "xlabel('time [second]')\n",
    "ylabel('Length of the rod under tension [mm]')\n",
    "title('Figure 3')"
   ]
  },
  {
   "cell_type": "markdown",
   "metadata": {},
   "source": [
    "### Question 1.\n",
    "How to define the engineering strain using a *step-by-step* basis over the course of entire deformation?\n",
    "\n",
    "- Answer : using *step-by-step* **length** increment.\n",
    "\n",
    "Let's define the strain increment corresponding to its time increment: \n",
    "$\\Delta\\epsilon^i = \\frac{l^{i}-l^{(i-1)}}{l^{(i-1)}}$, where $i$ is an *index* that refers to the time step number. \n",
    "In that sense, $l^{i}$ refers to *i*-th time increment. Likewise, $l^{i-1}$ refers to *(i-1)*th time step. What is important to know is that this occurs within a particular time increment: $\\Delta t^i$"
   ]
  },
  {
   "cell_type": "markdown",
   "metadata": {},
   "source": [
    "### Question 2.\n",
    "Maybe, the total amount of strain after the entire deformation can be obtained by summing all the strain increments collected at the time steps.\n",
    "\n",
    "$\\epsilon^\\mathrm{total}=\\Delta\\epsilon^1+\\Delta\\epsilon^2+\\Delta\\epsilon^3 ... \\Delta\\epsilon^n$ , where the superscript denotes the corresponding time step.\n",
    "\n",
    "\n",
    "\n",
    "With the summation symbol, it can be shortened to:\n",
    "\n",
    "$\\epsilon^\\mathrm{total}=\\sum_i^n {\\Delta\\epsilon^i}$\n",
    "\n",
    "Let's use $\\frac{l_1-l_0}{l_0}$ for strain for each time step ($dt$)"
   ]
  },
  {
   "cell_type": "markdown",
   "metadata": {},
   "source": [
    "### We want to see how what we did in the above is affected by the number of steps considered on the step-by-step basis calculation.\n",
    "\n",
    "To simplify this task, we might want to 'define' a function that is only sensitive to the number of 'inserted' time steps. For your understanding, let's understand the below cell line-by-line."
   ]
  },
  {
   "cell_type": "code",
   "execution_count": 11,
   "metadata": {
    "collapsed": false
   },
   "outputs": [],
   "source": [
    "def numer_calc(step_number=10):\n",
    "    \"\"\"\n",
    "    Numerically calculate the engineering strain\n",
    "    \n",
    "    Argument\n",
    "    --------\n",
    "    step_number: the number of steps used to obtain the step-wise increment of the entire deformation\n",
    "    \"\"\"\n",
    "    time_stamps=np.linspace(0,10,step_number+1)\n",
    "    \n",
    "    ## initial states\n",
    "    current_time=0.\n",
    "    accumulative_strain=0.\n",
    "    aeps=[]\n",
    "    eps_increment=[]\n",
    "    \n",
    "    for i in xrange(len(time_stamps)):\n",
    "        l=l0+v*time_stamps[i] ## the length of rod pertaining to current time_stamp\n",
    "\n",
    "        if i!=0: # i=0 is the state without strain (so skipped)\n",
    "            x = time_stamps[i]\n",
    "            l_now = l0 + x*v   ## current length = l0 + time * v\n",
    "\n",
    "            # engineering strain for this step\n",
    "            x0 = time_stamps[i-1] ## time pertaining to 'previous' (or reference)\n",
    "            l_last = l0+x0*v      ## the length of rod pertaining to the last step\n",
    "            e_now = (l_now - l_last)/l_last ## step-wise strain increment following the definition of 'engineering' strain\n",
    "\n",
    "            ## accumulative engineering strains\n",
    "            accumulative_strain=accumulative_strain+e_now  ## summation of strain increments.\n",
    "            aeps.append(accumulative_strain)\n",
    "            eps_increment.append(e_now)\n",
    "            \n",
    "    ## returns time stamps, accumulative strains, and incremental strain (using the definition of engineering strain)\n",
    "    return time_stamps, aeps, eps_increment\n",
    "\n",
    "## test\n",
    "#time_stamps, aeps,eps_increment = numer_calc(10)"
   ]
  },
  {
   "cell_type": "markdown",
   "metadata": {},
   "source": [
    "** Hints** : Try to understand what are **returned** from the function numer_calc."
   ]
  },
  {
   "cell_type": "markdown",
   "metadata": {},
   "source": [
    "In below cell, an example is given to show you how the defined function **numer_calc** is used."
   ]
  },
  {
   "cell_type": "code",
   "execution_count": 12,
   "metadata": {
    "collapsed": false
   },
   "outputs": [
    {
     "data": {
      "image/png": "[encoded data removed]",
      "text/plain": [
       "<matplotlib.figure.Figure at 0x11590f950>"
      ]
     },
     "metadata": {},
     "output_type": "display_data"
    }
   ],
   "source": [
    "time_stamps, aeps, eps_increment = numer_calc(10)\n",
    "         \n",
    "### Decos (this block creates a few axes object from a figure object where you will plot three different graphs.)\n",
    "fig=plt.figure(figsize=(15,4))\n",
    "ax1=fig.add_subplot(131)\n",
    "ax2=fig.add_subplot(132)\n",
    "ax3=fig.add_subplot(133)\n",
    "### \n",
    "\n",
    "for i in xrange(len(time_stamps)-1):\n",
    "    l=l0+v*time_stamps[i+1]\n",
    "    ax1.plot([time_stamps[i+1],time_stamps[i+1]],[l0,l],c='gray',ls='-')\n",
    "    x=time_stamps[i+1]\n",
    "    y=eps_increment[i]\n",
    "    ax1.text(x-0.6,l+0.3,r'$\\epsilon^{%i}$=%.3f'%(i,y))\n",
    "    ax2.bar(x,y,color='k')\n",
    "\n",
    "ax1.plot([0,l0],[time,l1])\n",
    "ax3.bar(time_stamps[1:],aeps)\n",
    "ax3.text(time_stamps[-1],aeps[-1],r'$\\sum_i^n \\epsilon^i$=%.3f'%(aeps[-1]),ha='center')\n",
    "\n",
    "## decorations\n",
    "ax1.set_xlabel('time [second]')\n",
    "ax1.set_ylabel('Length of the rod under tension [mm]')        \n",
    "ax2.set_xlabel('time [second]')\n",
    "ax3.set_xlabel('time [second]')\n",
    "ax2.set_ylabel('Incremental engineering strain')\n",
    "ax3.set_ylabel('Accumulative engineering strain')\n",
    "ax1.set_xlim(0,13);ax1.set_ylim(10,22);\n",
    "ax2.set_xlim(0,13)\n",
    "ax1.set_title('Figure 4a')\n",
    "ax2.set_title('Figure 4b')\n",
    "ax3.set_title('Figure 4c')\n",
    "tight_layout()"
   ]
  },
  {
   "cell_type": "code",
   "execution_count": 13,
   "metadata": {
    "collapsed": false
   },
   "outputs": [
    {
     "name": "stdout",
     "output_type": "stream",
     "text": [
      "0.718771403175\n"
     ]
    }
   ],
   "source": [
    "## remember the index -1 refers to the last element in the list.\n",
    "print aeps[-1]"
   ]
  },
  {
   "cell_type": "markdown",
   "metadata": {},
   "source": [
    "- How to impose this increment by diving the summation for the infinite number of steps?\n",
    "- Mathematicians dev\n",
    "We all know the 'exact' solution (i.e., the analytical solution):\n",
    "\n",
    "$\\varepsilon=\\ln{l_1}-\\ln{l_0}$\n",
    "\n",
    "This is actually derived from\n",
    "\n",
    "$\\int_{l_0}^{l_1} \\frac{dl}{l}=\\int_{l_0}^{l_1} d(\\ln{l})=\\ln{l_1}-\\ln{l_0}$\n",
    "- We can now **analytically** obtain true strain"
   ]
  },
  {
   "cell_type": "code",
   "execution_count": 14,
   "metadata": {
    "collapsed": false
   },
   "outputs": [
    {
     "name": "stdout",
     "output_type": "stream",
     "text": [
      "true_strain: 0.69314718056\n"
     ]
    }
   ],
   "source": [
    "# Note that <np.log> is the natural logarithmic function.\n",
    "true_strain=np.log(l1)-np.log(l0)\n",
    "print 'true_strain:',true_strain"
   ]
  },
  {
   "cell_type": "markdown",
   "metadata": {},
   "source": [
    "### Sanity check\n",
    "$\\ln(e)$ should be 1. where $e$ refers to the Euler's number (i.e., 2.7182818 ... )"
   ]
  },
  {
   "cell_type": "code",
   "execution_count": 15,
   "metadata": {
    "collapsed": false
   },
   "outputs": [
    {
     "name": "stdout",
     "output_type": "stream",
     "text": [
      "Euler's number:  2.71828182846\n",
      "1.0 : this value should be one\n"
     ]
    }
   ],
   "source": [
    "# sanity check: \n",
    "print \"Euler's number: \", np.e\n",
    "print np.log(np.e), ': this value should be one'"
   ]
  },
  {
   "cell_type": "markdown",
   "metadata": {},
   "source": [
    "## Influence of the number of 'steps' used when you refine the problem to a process consisting of various steps\n",
    "Let's graphically compare the analytical solution with the 'numerical' approach"
   ]
  },
  {
   "cell_type": "code",
   "execution_count": 16,
   "metadata": {
    "collapsed": false
   },
   "outputs": [
    {
     "name": "stdout",
     "output_type": "stream",
     "text": [
      "0.695678809904\n"
     ]
    },
    {
     "data": {
      "image/png": "[encoded data removed]",
      "text/plain": [
       "<matplotlib.figure.Figure at 0x11519b750>"
      ]
     },
     "metadata": {},
     "output_type": "display_data"
    }
   ],
   "source": [
    "maxn=100 ## the maximum number of time steps to be considered\n",
    "x=[]\n",
    "y=[]\n",
    "for i in xrange(1,maxn):\n",
    "    time_stamps, aeps, eps_increment = numer_calc(i)\n",
    "    x.append(i)\n",
    "    y.append(aeps[-1]) ## adding the 'last' element in <aeps>, which was returned from <def numer_calc>\n",
    "\n",
    "## Visualization\n",
    "plot(x,y,'k-',label='Numerically obtained')\n",
    "plot([1,maxn],[true_strain,true_strain],'b--',label='True Strain (analytically obtained)')\n",
    "plot([1,maxn],[engi_strain,engi_strain],'r--',label='Engineering Strain (analytically obtained)')\n",
    "\n",
    "xlabel('The number of discrete steps')\n",
    "ylabel('Strains')\n",
    "legend() ## put the legend box inside the figure\n",
    "print aeps[-1]"
   ]
  },
  {
   "cell_type": "markdown",
   "metadata": {},
   "source": [
    "## Assignment #1.\n",
    "We talked about deformation and two different types of strain measures - 1) engineering strain and 2) true strains. We wondered how to properly *estimate* the 'speed' of deformation. One good excercise is to measure the velocity (which was defined as the length change with respect to time, i.e., $\\frac{dl}{dt}$). One might also use a different measure for deformation \"speed\", which is called 'strain rate'. This is defined by the amount of applied strain and the elapsed time. Since we have shown that the true strain is closely related with engineering strain but differs when the number of 'discrete steps' is small - look at the figure - one can show that the engineering strain rate is getting closer to true strain rate as the time step size decreases. Note that the velocity remains constant $\\frac{dl}{dt}$=1 [mm/s].\n",
    "\n",
    "### Specific Tasks\n",
    "\n",
    "#1-1. Plot a figure to show that engineering strain rate is varying with respect to time. Show that, for the given step number (n=10), the strain rate is 'decreasing' with respect to time. Note that the engineering strain is defined as $\\dot{\\epsilon}$ or more correctly $\\Delta \\epsilon ^i/ \\Delta t^i$ when a finite value of incremental time is used, with the superscript $i$ being an index referring to the 'step' number in the time-stamp axis.\n",
    "#1-2. Also, estimate the final strain rate towards the end of test (i.e., t=10 [sec]) and show the difference between the initial and the final strain rate.\n",
    "#1-3. Show the dependence of the final strain rate with respect to the number of time steps by increasing n from 10 to 1000.\n",
    "#1-4. Create the below figure, where the results similar to #1-3 is repeated in the four different combinations of \n",
    " ($l_0, l_f, n$) values.\n",
    "<img src='images/assignment_01-05.png'>\n",
    "#1-5. Obtain the exact value of $\\dot\\epsilon$ at the end of deformation by obtaining the 'analytic' solution."
   ]
  }
 ],
 "metadata": {
  "kernelspec": {
   "display_name": "Python [default]",
   "language": "python",
   "name": "python2"
  },
  "language_info": {
   "codemirror_mode": {
    "name": "ipython",
    "version": 2
   },
   "file_extension": ".py",
   "mimetype": "text/x-python",
   "name": "python",
   "nbconvert_exporter": "python",
   "pygments_lexer": "ipython2",
   "version": "2.7.13"
  }
 },
 "nbformat": 4,
 "nbformat_minor": 2
}
