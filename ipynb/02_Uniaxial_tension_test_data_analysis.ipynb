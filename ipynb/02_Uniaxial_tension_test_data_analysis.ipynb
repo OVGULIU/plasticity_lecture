{
 "cells": [
  {
   "cell_type": "markdown",
   "metadata": {},
   "source": [
    "This notebook is a material used in a lecture taught by [Youngung Jeong](mailto:yjeong@changwon.ac.kr) at [Changwon National University](http://www.changwon.ac.kr) in the spring of 2017."
   ]
  },
  {
   "cell_type": "markdown",
   "metadata": {},
   "source": [
    "## Learning objectives\n",
    " 1. A few more operations based on NumPy array\n",
    " 2. Understand least-square method and learn how to conduct it using NumPy.\n",
    " 3. Understand how to process signals from measurement systems to physical values (Understand \"calibration\")"
   ]
  },
  {
   "cell_type": "code",
   "execution_count": 1,
   "metadata": {
    "collapsed": false
   },
   "outputs": [
    {
     "name": "stdout",
     "output_type": "stream",
     "text": [
      "Populating the interactive namespace from numpy and matplotlib\n"
     ]
    }
   ],
   "source": [
    "%pylab inline"
   ]
  },
  {
   "cell_type": "markdown",
   "metadata": {},
   "source": [
    "Devices used to measure 'displacement' and 'force' recieves electrical signal from 'extensometer' and 'load-cell'\n",
    "\n",
    "**displacement과 힘을 측정하는데 쓰이는 장비(도구)는 익스텐소미터와 로드셀이라 불린다.**"
   ]
  },
  {
   "cell_type": "markdown",
   "metadata": {},
   "source": [
    "## How to read a datasheet?"
   ]
  },
  {
   "cell_type": "code",
   "execution_count": 29,
   "metadata": {
    "collapsed": false
   },
   "outputs": [
    {
     "name": "stdout",
     "output_type": "stream",
     "text": [
      "(19987, 4)\n"
     ]
    }
   ],
   "source": [
    "data=np.loadtxt('RD4/Voltage.txt',skiprows=20)\n",
    "print data.shape"
   ]
  },
  {
   "cell_type": "markdown",
   "metadata": {},
   "source": [
    "The variable data is an array with 2 'axes'. This can be understand as a collection of coordinates spread in 2-dimension space. You have, in total, (19987x4) points. It was shown that this array has a shape of (19987,4). You can 'swap' this shape to (4x19987) through an operation called 'transpose'. "
   ]
  },
  {
   "cell_type": "code",
   "execution_count": 3,
   "metadata": {
    "collapsed": false
   },
   "outputs": [
    {
     "name": "stdout",
     "output_type": "stream",
     "text": [
      "(4, 19987)\n"
     ]
    }
   ],
   "source": [
    "data=data.T ## data.T create the transposed array of data and returns.\n",
    "print data.shape"
   ]
  },
  {
   "cell_type": "markdown",
   "metadata": {},
   "source": [
    "If you want to read the data pertaining to first column and third row: data[0,2]"
   ]
  },
  {
   "cell_type": "code",
   "execution_count": 4,
   "metadata": {
    "collapsed": false
   },
   "outputs": [
    {
     "data": {
      "text/plain": [
       "-0.8122625"
      ]
     },
     "execution_count": 4,
     "metadata": {},
     "output_type": "execute_result"
    }
   ],
   "source": [
    "data[0,2] # pointing the element located in the first column and the third row "
   ]
  },
  {
   "cell_type": "markdown",
   "metadata": {},
   "source": [
    "If you want to read all the elements pertaining to the first column"
   ]
  },
  {
   "cell_type": "code",
   "execution_count": 5,
   "metadata": {
    "collapsed": false
   },
   "outputs": [
    {
     "name": "stdout",
     "output_type": "stream",
     "text": [
      "[-0.8119438 -0.8113064 -0.8122625 ...,  2.000035   1.999078   2.000991 ]\n"
     ]
    }
   ],
   "source": [
    "print data[0,:]"
   ]
  },
  {
   "cell_type": "code",
   "execution_count": 6,
   "metadata": {
    "collapsed": false
   },
   "outputs": [
    {
     "name": "stdout",
     "output_type": "stream",
     "text": [
      "(19987,)\n"
     ]
    }
   ],
   "source": [
    "print data[0,:].shape"
   ]
  },
  {
   "cell_type": "markdown",
   "metadata": {},
   "source": [
    "The above can be 'shortened' to"
   ]
  },
  {
   "cell_type": "code",
   "execution_count": 7,
   "metadata": {
    "collapsed": false
   },
   "outputs": [
    {
     "name": "stdout",
     "output_type": "stream",
     "text": [
      "[-0.8119438 -0.8113064 -0.8122625 ...,  2.000035   1.999078   2.000991 ]\n"
     ]
    }
   ],
   "source": [
    "print data[0]"
   ]
  },
  {
   "cell_type": "markdown",
   "metadata": {},
   "source": [
    "There are more 'similar' features in [NumPy](http://www.numpy.org) array. Find more about them [here](https://docs.scipy.org/doc/numpy/reference/arrays.indexing.html)"
   ]
  },
  {
   "cell_type": "markdown",
   "metadata": {},
   "source": [
    "# Plot first column against the second column"
   ]
  },
  {
   "cell_type": "code",
   "execution_count": 8,
   "metadata": {
    "collapsed": false
   },
   "outputs": [
    {
     "data": {
      "text/plain": [
       "<matplotlib.text.Text at 0x109c33490>"
      ]
     },
     "execution_count": 8,
     "metadata": {},
     "output_type": "execute_result"
    },
    {
     "data": {
      "image/png": "[encoded data removed]",
      "text/plain": [
       "<matplotlib.figure.Figure at 0x109ec9590>"
      ]
     },
     "metadata": {},
     "output_type": "display_data"
    }
   ],
   "source": [
    "plot(data[0],data[1],'-')\n",
    "# The first column is actually \n",
    "xlabel('Voltage changes from extensometer [V]')\n",
    "ylabel('Voltage from load [V]')"
   ]
  },
  {
   "cell_type": "markdown",
   "metadata": {},
   "source": [
    "- Q. Why the force drop towards the end of the curve?"
   ]
  },
  {
   "cell_type": "markdown",
   "metadata": {},
   "source": [
    "## You'll be given a file named 'axial_ext.txt' for your own exercise"
   ]
  },
  {
   "cell_type": "markdown",
   "metadata": {},
   "source": [
    "The **calib/axial_ext.txt** file is a datasheet that contains the lengths of gauge blocks vs. their corresponding voltage signals obtained by the extensometer subject to calibration.\n",
    "Look at the below figure (from [wikipedia.org](http://www.wikipedia.org)), which shows a number of gauge blocks that are precisely manufactured with great care.\n",
    "<img src=\"https://upload.wikimedia.org/wikipedia/commons/a/ac/GaugeBlockMetricSet.jpg\">\n",
    "\n",
    "\n",
    "Image of an 'extensometer' attached to a rod-shaped tensile specimen. This extensometer is a commercial product produced by [Epsilon Tech Corp](http://www.epsilontech.com).\n",
    "<img src=\"http://www.epsilontech.com/wp-content/uploads/2016/04/tensile-testing-extensometer-Model-3542-creative-8.jpg\">"
   ]
  },
  {
   "cell_type": "code",
   "execution_count": 9,
   "metadata": {
    "collapsed": false
   },
   "outputs": [
    {
     "name": "stdout",
     "output_type": "stream",
     "text": [
      "axial_ext.txt calib.txt     wid_ext.txt\r\n"
     ]
    }
   ],
   "source": [
    "# I have saved the file under a folder named 'calib'\n",
    "# Warning: the command 'ls' is usually available on Unix/Linux systems. On windows, use 'dir'\n",
    "!ls calib/"
   ]
  },
  {
   "cell_type": "code",
   "execution_count": 10,
   "metadata": {
    "collapsed": false
   },
   "outputs": [
    {
     "name": "stdout",
     "output_type": "stream",
     "text": [
      "Pcal    Pext\r\n",
      "0       -3.1756\r\n",
      "0.025   -2.918\r\n",
      "0.05    -2.662\r\n",
      "0.075   -2.405\r\n",
      "0.100   -2.149\r\n",
      "0.125   -1.892\r\n",
      "0.150   -1.635\r\n",
      "0.175   -1.378\r\n",
      "0.200   -1.122\r\n"
     ]
    }
   ],
   "source": [
    "## Warning: the command head is usually available at any Unix/Linux systems. \n",
    "## Not sure about Windows.\n",
    "!head calib/axial_ext.txt "
   ]
  },
  {
   "cell_type": "code",
   "execution_count": 11,
   "metadata": {
    "collapsed": false
   },
   "outputs": [],
   "source": [
    "dat_axial_calib=np.loadtxt('calib/axial_ext.txt',skiprows=1)"
   ]
  },
  {
   "cell_type": "code",
   "execution_count": 12,
   "metadata": {
    "collapsed": false
   },
   "outputs": [
    {
     "name": "stdout",
     "output_type": "stream",
     "text": [
      "(15, 2)\n"
     ]
    }
   ],
   "source": [
    "print dat_axial_calib.shape"
   ]
  },
  {
   "cell_type": "markdown",
   "metadata": {},
   "source": [
    "- Transpose"
   ]
  },
  {
   "cell_type": "code",
   "execution_count": 13,
   "metadata": {
    "collapsed": false
   },
   "outputs": [
    {
     "name": "stdout",
     "output_type": "stream",
     "text": [
      "(2, 15)\n"
     ]
    }
   ],
   "source": [
    "dat_axial_calib = dat_axial_calib.T\n",
    "print dat_axial_calib.shape"
   ]
  },
  {
   "cell_type": "markdown",
   "metadata": {},
   "source": [
    "- Extensometer reads displacement in terms of 'voltage' change. We want to convert the voltage signals to displacement values in the unit of milimeter."
   ]
  },
  {
   "cell_type": "code",
   "execution_count": 14,
   "metadata": {
    "collapsed": false
   },
   "outputs": [
    {
     "data": {
      "text/plain": [
       "<matplotlib.legend.Legend at 0x109c70d50>"
      ]
     },
     "execution_count": 14,
     "metadata": {},
     "output_type": "execute_result"
    },
    {
     "data": {
      "image/png": "[encoded data removed]",
      "text/plain": [
       "<matplotlib.figure.Figure at 0x109c70dd0>"
      ]
     },
     "metadata": {},
     "output_type": "display_data"
    }
   ],
   "source": [
    "plot(dat_axial_calib[1],dat_axial_calib[0],'x',\n",
    "     label='calibration data obtained using gauge blocks')\n",
    "\n",
    "ylabel('Calibration')\n",
    "xlabel('Extensometer voltage')\n",
    "legend()"
   ]
  },
  {
   "cell_type": "code",
   "execution_count": 15,
   "metadata": {
    "collapsed": false
   },
   "outputs": [
    {
     "data": {
      "text/plain": [
       "<matplotlib.legend.Legend at 0x109e226d0>"
      ]
     },
     "execution_count": 15,
     "metadata": {},
     "output_type": "execute_result"
    },
    {
     "data": {
      "image/png": "[encoded data removed]",
      "text/plain": [
       "<matplotlib.figure.Figure at 0x109cddc10>"
      ]
     },
     "metadata": {},
     "output_type": "display_data"
    }
   ],
   "source": [
    "plot(dat_axial_calib[1],dat_axial_calib[0],'x',\n",
    "     label='calibration data obtained using gauge blocks')\n",
    "\n",
    "## manually determine the slope? (practice)\n",
    "plot([-3.5,1.5],[0.2,2],'--',label='not a good guess')\n",
    "plot([-3.5,1.5],[0,0.25],'-',label='a better guess')\n",
    "\n",
    "ylabel('Calibration [inches]')\n",
    "xlabel('Extensomeber voltage [V]')\n",
    "legend()"
   ]
  },
  {
   "cell_type": "markdown",
   "metadata": {},
   "source": [
    "## Is there a way to get this done using computer?\n",
    "- The [least square method](https://en.wikipedia.org/wiki/Least_squares) (최소자승법) is a very \"classical\" and still very popular way to determine a 'straight'-line that goes through a set of 'scattered' data\n",
    "\n",
    "Remeber that a straight line can be expressed as:\n",
    "y = *a* x + *b*, where *a* and *b* are two unknown coefficients (i.e., slope of the line (기울기) and the intercept with y-axis (y 절편), respectively).\n",
    "\n",
    "Basically, the least-square method is a way to determine the coefficients of the 'correct' line equation that exhibits a linear trend expected in a set of scattered points."
   ]
  },
  {
   "cell_type": "markdown",
   "metadata": {},
   "source": [
    "## How would you obtain the coefficients?"
   ]
  },
  {
   "cell_type": "markdown",
   "metadata": {},
   "source": [
    "- We are re-writing the line equation as \"y=Ap\" where A becomes [[x 1]] p = [[m c]]. For more details of np.linalg.lstsq function, click on this [link](https://docs.scipy.org/doc/numpy/reference/generated/numpy.linalg.lstsq.html#numpy.linalg.lstsq). "
   ]
  },
  {
   "cell_type": "code",
   "execution_count": 16,
   "metadata": {
    "collapsed": false
   },
   "outputs": [
    {
     "name": "stdout",
     "output_type": "stream",
     "text": [
      "m: 0.0966208926192\n",
      "c: 0.307176757647\n"
     ]
    }
   ],
   "source": [
    "x=dat_axial_calib[1]\n",
    "y=dat_axial_calib[0]\n",
    "\n",
    "A = np.vstack([x, np.ones(len(x))]).T  ## stacking x array and an array consisting only with 1 (i.e., [[x 1]])\n",
    "m, c = np.linalg.lstsq(A, y)[0]\n",
    "\n",
    "print 'm:',m\n",
    "print 'c:',c"
   ]
  },
  {
   "cell_type": "markdown",
   "metadata": {},
   "source": [
    "- You see, np.vstack and np.linslg.lstsq were used in the above. Find more about them using **help** feature"
   ]
  },
  {
   "cell_type": "code",
   "execution_count": 17,
   "metadata": {
    "collapsed": false
   },
   "outputs": [
    {
     "name": "stdout",
     "output_type": "stream",
     "text": [
      "Help on function lstsq in module numpy.linalg.linalg:\n",
      "\n",
      "lstsq(a, b, rcond=-1)\n",
      "    Return the least-squares solution to a linear matrix equation.\n",
      "    \n",
      "    Solves the equation `a x = b` by computing a vector `x` that\n",
      "    minimizes the Euclidean 2-norm `|| b - a x ||^2`.  The equation may\n",
      "    be under-, well-, or over- determined (i.e., the number of\n",
      "    linearly independent rows of `a` can be less than, equal to, or\n",
      "    greater than its number of linearly independent columns).  If `a`\n",
      "    is square and of full rank, then `x` (but for round-off error) is\n",
      "    the \"exact\" solution of the equation.\n",
      "    \n",
      "    Parameters\n",
      "    ----------\n",
      "    a : (M, N) array_like\n",
      "        \"Coefficient\" matrix.\n",
      "    b : {(M,), (M, K)} array_like\n",
      "        Ordinate or \"dependent variable\" values. If `b` is two-dimensional,\n",
      "        the least-squares solution is calculated for each of the `K` columns\n",
      "        of `b`.\n",
      "    rcond : float, optional\n",
      "        Cut-off ratio for small singular values of `a`.\n",
      "        Singular values are set to zero if they are smaller than `rcond`\n",
      "        times the largest singular value of `a`.\n",
      "    \n",
      "    Returns\n",
      "    -------\n",
      "    x : {(N,), (N, K)} ndarray\n",
      "        Least-squares solution. If `b` is two-dimensional,\n",
      "        the solutions are in the `K` columns of `x`.\n",
      "    residuals : {(), (1,), (K,)} ndarray\n",
      "        Sums of residuals; squared Euclidean 2-norm for each column in\n",
      "        ``b - a*x``.\n",
      "        If the rank of `a` is < N or M <= N, this is an empty array.\n",
      "        If `b` is 1-dimensional, this is a (1,) shape array.\n",
      "        Otherwise the shape is (K,).\n",
      "    rank : int\n",
      "        Rank of matrix `a`.\n",
      "    s : (min(M, N),) ndarray\n",
      "        Singular values of `a`.\n",
      "    \n",
      "    Raises\n",
      "    ------\n",
      "    LinAlgError\n",
      "        If computation does not converge.\n",
      "    \n",
      "    Notes\n",
      "    -----\n",
      "    If `b` is a matrix, then all array results are returned as matrices.\n",
      "    \n",
      "    Examples\n",
      "    --------\n",
      "    Fit a line, ``y = mx + c``, through some noisy data-points:\n",
      "    \n",
      "    >>> x = np.array([0, 1, 2, 3])\n",
      "    >>> y = np.array([-1, 0.2, 0.9, 2.1])\n",
      "    \n",
      "    By examining the coefficients, we see that the line should have a\n",
      "    gradient of roughly 1 and cut the y-axis at, more or less, -1.\n",
      "    \n",
      "    We can rewrite the line equation as ``y = Ap``, where ``A = [[x 1]]``\n",
      "    and ``p = [[m], [c]]``.  Now use `lstsq` to solve for `p`:\n",
      "    \n",
      "    >>> A = np.vstack([x, np.ones(len(x))]).T\n",
      "    >>> A\n",
      "    array([[ 0.,  1.],\n",
      "           [ 1.,  1.],\n",
      "           [ 2.,  1.],\n",
      "           [ 3.,  1.]])\n",
      "    \n",
      "    >>> m, c = np.linalg.lstsq(A, y)[0]\n",
      "    >>> print(m, c)\n",
      "    1.0 -0.95\n",
      "    \n",
      "    Plot the data along with the fitted line:\n",
      "    \n",
      "    >>> import matplotlib.pyplot as plt\n",
      "    >>> plt.plot(x, y, 'o', label='Original data', markersize=10)\n",
      "    >>> plt.plot(x, m*x + c, 'r', label='Fitted line')\n",
      "    >>> plt.legend()\n",
      "    >>> plt.show()\n",
      "\n"
     ]
    }
   ],
   "source": [
    "help(np.linalg.lstsq)"
   ]
  },
  {
   "cell_type": "code",
   "execution_count": 18,
   "metadata": {
    "collapsed": false
   },
   "outputs": [
    {
     "name": "stdout",
     "output_type": "stream",
     "text": [
      "Help on function vstack in module numpy.core.shape_base:\n",
      "\n",
      "vstack(tup)\n",
      "    Stack arrays in sequence vertically (row wise).\n",
      "    \n",
      "    Take a sequence of arrays and stack them vertically to make a single\n",
      "    array. Rebuild arrays divided by `vsplit`.\n",
      "    \n",
      "    Parameters\n",
      "    ----------\n",
      "    tup : sequence of ndarrays\n",
      "        Tuple containing arrays to be stacked. The arrays must have the same\n",
      "        shape along all but the first axis.\n",
      "    \n",
      "    Returns\n",
      "    -------\n",
      "    stacked : ndarray\n",
      "        The array formed by stacking the given arrays.\n",
      "    \n",
      "    See Also\n",
      "    --------\n",
      "    stack : Join a sequence of arrays along a new axis.\n",
      "    hstack : Stack arrays in sequence horizontally (column wise).\n",
      "    dstack : Stack arrays in sequence depth wise (along third dimension).\n",
      "    concatenate : Join a sequence of arrays along an existing axis.\n",
      "    vsplit : Split array into a list of multiple sub-arrays vertically.\n",
      "    \n",
      "    Notes\n",
      "    -----\n",
      "    Equivalent to ``np.concatenate(tup, axis=0)`` if `tup` contains arrays that\n",
      "    are at least 2-dimensional.\n",
      "    \n",
      "    Examples\n",
      "    --------\n",
      "    >>> a = np.array([1, 2, 3])\n",
      "    >>> b = np.array([2, 3, 4])\n",
      "    >>> np.vstack((a,b))\n",
      "    array([[1, 2, 3],\n",
      "           [2, 3, 4]])\n",
      "    \n",
      "    >>> a = np.array([[1], [2], [3]])\n",
      "    >>> b = np.array([[2], [3], [4]])\n",
      "    >>> np.vstack((a,b))\n",
      "    array([[1],\n",
      "           [2],\n",
      "           [3],\n",
      "           [2],\n",
      "           [3],\n",
      "           [4]])\n",
      "\n"
     ]
    }
   ],
   "source": [
    "help(np.vstack)"
   ]
  },
  {
   "cell_type": "markdown",
   "metadata": {},
   "source": [
    "- Sanity check"
   ]
  },
  {
   "cell_type": "code",
   "execution_count": 19,
   "metadata": {
    "collapsed": false
   },
   "outputs": [
    {
     "name": "stdout",
     "output_type": "stream",
     "text": [
      "m: 0.0966208926192\n",
      "c: 0.307176757647\n"
     ]
    },
    {
     "data": {
      "image/png": "[encoded data removed]",
      "text/plain": [
       "<matplotlib.figure.Figure at 0x109c9fdd0>"
      ]
     },
     "metadata": {},
     "output_type": "display_data"
    }
   ],
   "source": [
    "y_fit=x*m+c\n",
    "plot(x,y_fit,label='Fit by least-square method')\n",
    "plot(dat_axial_calib[1],dat_axial_calib[0],'x',label='points')\n",
    "legend()\n",
    "\n",
    "print 'm:',m\n",
    "print 'c:',c"
   ]
  },
  {
   "cell_type": "markdown",
   "metadata": {},
   "source": [
    "- We can now construct a function that can convert a 'voltage' signals to 'extension'"
   ]
  },
  {
   "cell_type": "code",
   "execution_count": 20,
   "metadata": {
    "collapsed": true
   },
   "outputs": [],
   "source": [
    "def convert_volt_to_axial_extension(voltage):\n",
    "    \"\"\"\n",
    "    Function that converts 'voltage' to extension\n",
    "    \n",
    "    Argument\n",
    "    --------\n",
    "    voltage: value of voltage obtained from your axial extensometer\n",
    "    \n",
    "    Return\n",
    "    ------\n",
    "    voltage * m + c, \n",
    "        where m and c are coefficients of a straight-line that describes\n",
    "        the linear relationship between the voltage signal and 'acutal' extension.   \n",
    "    \"\"\"\n",
    "    return voltage * m + c"
   ]
  },
  {
   "cell_type": "code",
   "execution_count": 21,
   "metadata": {
    "collapsed": false
   },
   "outputs": [
    {
     "data": {
      "text/plain": [
       "0.40379765026601089"
      ]
     },
     "execution_count": 21,
     "metadata": {},
     "output_type": "execute_result"
    }
   ],
   "source": [
    "convert_volt_to_axial_extension(1.)"
   ]
  },
  {
   "cell_type": "markdown",
   "metadata": {},
   "source": [
    "- The 'string' block right starting in the following line of the function can be used as 'documentation' saved as an attribute '__doc__'. You can put instructions and read it later. See below cell:"
   ]
  },
  {
   "cell_type": "code",
   "execution_count": 22,
   "metadata": {
    "collapsed": false
   },
   "outputs": [
    {
     "name": "stdout",
     "output_type": "stream",
     "text": [
      "\n",
      "    Function that converts 'voltage' to extension\n",
      "    \n",
      "    Argument\n",
      "    --------\n",
      "    voltage: value of voltage obtained from your axial extensometer\n",
      "    \n",
      "    Return\n",
      "    ------\n",
      "    voltage * m + c, \n",
      "        where m and c are coefficients of a straight-line that describes\n",
      "        the linear relationship between the voltage signal and 'acutal' extension.   \n",
      "    \n"
     ]
    }
   ],
   "source": [
    "print convert_volt_to_axial_extension.__doc__"
   ]
  },
  {
   "cell_type": "code",
   "execution_count": 23,
   "metadata": {
    "collapsed": false
   },
   "outputs": [
    {
     "data": {
      "text/plain": [
       "<matplotlib.text.Text at 0x10d591ed0>"
      ]
     },
     "execution_count": 23,
     "metadata": {},
     "output_type": "execute_result"
    },
    {
     "data": {
      "image/png": "[encoded data removed]",
      "text/plain": [
       "<matplotlib.figure.Figure at 0x109e457d0>"
      ]
     },
     "metadata": {},
     "output_type": "display_data"
    }
   ],
   "source": [
    "plot(data[0,:]*m+c,data[1,:],'-',label=\"Curve without zero-correction\")\n",
    "x_shifted=data[0,:]*m+c -(data[0,0]*m+c)\n",
    "plot(x_shifted,data[1,:],'-',label=\"Curve with zero-correction\")\n",
    "legend()\n",
    "\n",
    "xlabel('Displacement in [inches]')\n",
    "ylabel('Voltage signal from load-cell [V]')"
   ]
  },
  {
   "cell_type": "markdown",
   "metadata": {},
   "source": [
    "Remember the definition of 'engineering' strain\n",
    "\n",
    "$\\epsilon=\\frac{l_1-l_0}{l_0}$\n",
    "Let's convert the 'displacement' to 'length'\n",
    "$l_1=l_0+d$\n",
    "\n",
    "Therefore,\n",
    "$\\epsilon=\\frac{d}{l_0}$. \n",
    "\n",
    "Usually, when conducting uniaxial tension test, we know the initial distance between the two arms of extensometer. Let's assume it is 20 [mm].\n",
    "\n",
    "Also, you can find the converting factor between unit inch and unit milimeter system, i.e.,  **in = mm * 0.039370**."
   ]
  },
  {
   "cell_type": "code",
   "execution_count": 28,
   "metadata": {
    "collapsed": false
   },
   "outputs": [
    {
     "data": {
      "text/plain": [
       "<matplotlib.text.Text at 0x10d7d9ad0>"
      ]
     },
     "execution_count": 28,
     "metadata": {},
     "output_type": "execute_result"
    },
    {
     "data": {
      "image/png": "[encoded data removed]",
      "text/plain": [
       "<matplotlib.figure.Figure at 0x10da297d0>"
      ]
     },
     "metadata": {},
     "output_type": "display_data"
    }
   ],
   "source": [
    "engi_strain=x_shifted/(20*0.03970)\n",
    "\n",
    "plot(engi_strain,data[1,:],'-',label=\"Curve with zero-correction\")\n",
    "legend()\n",
    "xlabel('Engineering strain')\n",
    "ylabel('Voltage signal from load-cell [V]')"
   ]
  },
  {
   "cell_type": "markdown",
   "metadata": {},
   "source": [
    "There is another extensometer that measures the displacement transverse to the longtidinal direction."
   ]
  },
  {
   "cell_type": "code",
   "execution_count": 24,
   "metadata": {
    "collapsed": false
   },
   "outputs": [],
   "source": [
    "a=np.array([[0.4 ,   -3.03],\n",
    "[0.45  ,  -1.571],\n",
    "[0.5    , -0.101],\n",
    "[0.55  , 1.330],\n",
    "[0.6   , 2.806],\n",
    "[0.405 , -2.928],\n",
    "[0.42  , -2.498],\n",
    "[0.47  , -1.055],\n",
    "[0.57  , 1.946]\n",
    "])\n",
    "a=a.T"
   ]
  },
  {
   "cell_type": "code",
   "execution_count": 25,
   "metadata": {
    "collapsed": false
   },
   "outputs": [
    {
     "name": "stdout",
     "output_type": "stream",
     "text": [
      "0.0340472173572 0.504297206193\n"
     ]
    },
    {
     "data": {
      "image/png": "[encoded data removed]",
      "text/plain": [
       "<matplotlib.figure.Figure at 0x10d72b5d0>"
      ]
     },
     "metadata": {},
     "output_type": "display_data"
    }
   ],
   "source": [
    "plot(a[1],a[0],'x')\n",
    "\n",
    "A = np.vstack([a[1], np.ones(len(a[1]))]).T  ## stacking x array and an array consisting only with 1 (i.e., [[x 1]])\n",
    "m, c = np.linalg.lstsq(A, a[0])[0]\n",
    "\n",
    "y=m*a[1]+c\n",
    "plot(a[1],y)\n",
    "print m, c"
   ]
  }
 ],
 "metadata": {
  "kernelspec": {
   "display_name": "Python [default]",
   "language": "python",
   "name": "python2"
  },
  "language_info": {
   "codemirror_mode": {
    "name": "ipython",
    "version": 2
   },
   "file_extension": ".py",
   "mimetype": "text/x-python",
   "name": "python",
   "nbconvert_exporter": "python",
   "pygments_lexer": "ipython2",
   "version": "2.7.13"
  }
 },
 "nbformat": 4,
 "nbformat_minor": 2
}
