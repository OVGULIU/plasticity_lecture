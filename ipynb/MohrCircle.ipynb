{
 "cells": [
  {
   "cell_type": "code",
   "execution_count": 1,
   "metadata": {
    "collapsed": false
   },
   "outputs": [
    {
     "name": "stdout",
     "output_type": "stream",
     "text": [
      "Populating the interactive namespace from numpy and matplotlib\n"
     ]
    }
   ],
   "source": [
    "%pylab inline"
   ]
  },
  {
   "cell_type": "markdown",
   "metadata": {},
   "source": [
    "Remember that the transformation matrix we learned in the class has two indices\n",
    "and the 1st index refers to the 'new' coordinate system's basis vectors, while\n",
    "the 2nd one refers to the 'old' coordinate systems.\n",
    "\n",
    "Each component of the transformation matrix refers to the direction cosine, which is\n",
    "defined by the cos(th) where th denotes the 'angle' between the two participating \n",
    "basis vectors."
   ]
  },
  {
   "cell_type": "code",
   "execution_count": 2,
   "metadata": {
    "collapsed": true
   },
   "outputs": [],
   "source": [
    "def rot_1(theta):\n",
    "    \"\"\"\n",
    "    Theta: ccw about the current e1 basis vector\n",
    "    \n",
    "    Argument\n",
    "    --------\n",
    "    theta\n",
    "    \"\"\"\n",
    "    rot = np.zeros((3,3))\n",
    "    \n",
    "    rot[0,0]=1.\n",
    "    rot[1,1]=cos(theta)\n",
    "    rot[1,2]=sin(theta)\n",
    "    rot[2,1]=-sin(theta)\n",
    "    rot[2,2]=cos(theta)\n",
    "        \n",
    "    return rot\n",
    "def rot_2(theta):\n",
    "    \"\"\"\n",
    "    Theta: ccw about the current e2 basis vector\n",
    "    \n",
    "    Argument\n",
    "    --------\n",
    "    theta\n",
    "    \"\"\"\n",
    "    rot = np.zeros((3,3))\n",
    "    \n",
    "    rot[1,1]=1.\n",
    "    rot[0,0]=cos(theta)\n",
    "    rot[0,2]=-sin(theta)\n",
    "    rot[2,0]=sin(theta)\n",
    "    rot[2,2]=cos(theta)\n",
    "    \n",
    "    return rot\n",
    "def rot_3(theta):\n",
    "    \"\"\"\n",
    "    Theta: ccw about the current e3 basis vector\n",
    "    \n",
    "    Argument\n",
    "    --------\n",
    "    Theta\n",
    "    \"\"\"\n",
    "    rot = np.zeros((3,3))\n",
    "    \n",
    "    rot[0,0]=cos(theta)\n",
    "    rot[0,1]=sin(theta)\n",
    "    rot[1,0]=-rot[0,1]\n",
    "    rot[1,1]=cos(theta)    \n",
    "    rot[2,2]=1.\n",
    "        \n",
    "    return rot"
   ]
  },
  {
   "cell_type": "markdown",
   "metadata": {},
   "source": [
    "- Now, I'm generating the transformation matrix by combining the three sequential rotation matrices defined above."
   ]
  },
  {
   "cell_type": "code",
   "execution_count": 3,
   "metadata": {
    "collapsed": false
   },
   "outputs": [],
   "source": [
    "def trans_matrix(th1,th2,th3):\n",
    "    \"\"\"\n",
    "    Generate a transformation matrix by combining the three \n",
    "    sequential rotations along each basis vecotor\n",
    "    \n",
    "    Argument\n",
    "    --------\n",
    "    th1 (degree)\n",
    "    th2 (degree)\n",
    "    th3 (degree)\n",
    "    \"\"\"\n",
    "    \n",
    "    ## from degree to radian\n",
    "    th1=np.radians(th1)\n",
    "    th2=np.radians(th2)\n",
    "    th3=np.radians(th3)\n",
    "    \n",
    "    r1=rot_1(th1)\n",
    "    r2=rot_2(th2)\n",
    "    r3=rot_3(th3)\n",
    "\n",
    "    # conduct the below \n",
    "    #r_ij = r^3_ik r^2_kl r^1_lj\n",
    "    \n",
    "    # Notice the missing summation symboles for k and l indices, respectively.\n",
    "    \n",
    "    r=np.zeros((3,3))\n",
    "    for i in xrange(3):\n",
    "        for j in xrange(3): ## \n",
    "            \n",
    "            ## summation over k and l\n",
    "            for k in xrange(3): # summation over k index\n",
    "                for l in xrange(3): # summation over l index\n",
    "                    \n",
    "                    ## r[i,j] appears on both left and right sides for sum-up.\n",
    "                    r[i,j] = r[i,j] + r3[i,k]*r2[k,l]*r1[l,j] \n",
    "    return r                    "
   ]
  },
  {
   "cell_type": "code",
   "execution_count": 4,
   "metadata": {
    "collapsed": true
   },
   "outputs": [],
   "source": [
    "def gen_stress(s):\n",
    "    \"\"\"\n",
    "    Given 6 independent components of stress tensor,\n",
    "    returns it in the form of 3x3 matrix considering the symmetry\n",
    "    \n",
    "    s= [s11,s22,s33,s23,s13,s12] ## this is so-called the Voigt notation\n",
    "    \"\"\"\n",
    "    stress=np.zeros((3,3))\n",
    "    stress[0,0]=s[0]\n",
    "    stress[1,1]=s[1]\n",
    "    stress[2,2]=s[2]\n",
    "    ## shear components\n",
    "    stress[1,2]=s[3]\n",
    "    stress[2,1]=s[3]\n",
    "    \n",
    "    stress[0,2]=s[4]\n",
    "    stress[2,0]=s[4]\n",
    "    \n",
    "    stress[0,1]=s[5]\n",
    "    stress[1,0]=s[5]\n",
    "\n",
    "    return stress\n"
   ]
  },
  {
   "cell_type": "code",
   "execution_count": 5,
   "metadata": {
    "collapsed": true
   },
   "outputs": [],
   "source": [
    "def transform_stress(s,rot):\n",
    "    \"\"\"\n",
    "    Rotate the stress tensor by using the given transformation matrix (rot)\n",
    "    \n",
    "    Arguments\n",
    "    ---------\n",
    "    s\n",
    "    rot\n",
    "    \"\"\"\n",
    "    \n",
    "    #s_hat_ij= s_kl rot_ik rot_jl\n",
    "    s_hat=np.zeros((3,3))\n",
    "    for i in xrange(3):\n",
    "        for j in xrange(3):\n",
    "            \n",
    "            ## summation over k and l\n",
    "            for k in xrange(3): ## summation over index k\n",
    "                for l in xrange(3): ## summation over index l\n",
    "                    s_hat[i,j]=s_hat[i,j] + s[k,l]*rot[i,k]*rot[j,l]\n",
    "                    \n",
    "    return s_hat\n",
    "    "
   ]
  },
  {
   "cell_type": "markdown",
   "metadata": {},
   "source": [
    "2D stress referred in the new and old coordinate systems; the new coordinate system $\\hat{\\mathbf{e_i}}$ is generated by rotating the old coordinat system about $\\mathbf{e}_3$."
   ]
  },
  {
   "cell_type": "code",
   "execution_count": 6,
   "metadata": {
    "collapsed": false
   },
   "outputs": [
    {
     "name": "stdout",
     "output_type": "stream",
     "text": [
      "[[ 60.  10.   0.]\n",
      " [ 10.  30.   0.]\n",
      " [  0.   0.   0.]]\n"
     ]
    },
    {
     "data": {
      "text/plain": [
       "[<matplotlib.lines.Line2D at 0x11453f8d0>]"
      ]
     },
     "execution_count": 6,
     "metadata": {},
     "output_type": "execute_result"
    },
    {
     "data": {
      "image/png": "[encoded data removed]",
      "text/plain": [
       "<matplotlib.figure.Figure at 0x111165f90>"
      ]
     },
     "metadata": {},
     "output_type": "display_data"
    }
   ],
   "source": [
    "## example stress tensor expressed as in Voigt convention\n",
    "s=[60,30,0,0,0,10]\n",
    "## Convert the above to a 3x3 tensorial form\n",
    "sigma=gen_stress(s)\n",
    "print sigma\n",
    "\n",
    "## stress referred in the old coordinate system\n",
    "plot(sigma[0,0],sigma[0,1],'rx')\n",
    "plot(sigma[1,1],-sigma[0,1],'bo')\n",
    "plot((sigma[1,1]+sigma[0,0])/2.,0.,'gd')\n",
    "plot([sigma[0,0],sigma[1,1]],[sigma[0,1],-sigma[0,1]],'k-')\n",
    "\n",
    "\n",
    "## stress referred in the new coordinate system\n",
    "trans_mat=trans_matrix(0,0,15) ## new coordinate system by rotating the old about e3.\n",
    "sigma_hat = transform_stress(sigma,trans_mat)\n",
    "plot(sigma_hat[0,0],sigma_hat[0,1],'rx')\n",
    "plot(sigma_hat[1,1],-sigma_hat[0,1],'bo')\n",
    "plot((sigma_hat[1,1]+sigma_hat[0,0])/2.,0.,'gd')\n",
    "\n",
    "## check if the line connecting blue and cross points goes through the average stress point (the green diamond)\n",
    "plot([sigma_hat[0,0],sigma_hat[1,1]],[sigma_hat[0,1],-sigma_hat[0,1]],'k--')"
   ]
  },
  {
   "cell_type": "markdown",
   "metadata": {},
   "source": [
    "## 2D Mohr Circle"
   ]
  },
  {
   "cell_type": "code",
   "execution_count": 7,
   "metadata": {
    "collapsed": false
   },
   "outputs": [
    {
     "data": {
      "image/png": "[encoded data removed]",
      "text/plain": [
       "<matplotlib.figure.Figure at 0x11116a990>"
      ]
     },
     "metadata": {},
     "output_type": "display_data"
    }
   ],
   "source": [
    "th3=np.linspace(0,90.,30)\n",
    "th3=th3[1:] ## th3=0 and th3=90 leads to the same result - thus removing the first case.\n",
    "\n",
    "for i in xrange(len(th3)):\n",
    "    trans_mat=trans_matrix(0,0,th3[i])\n",
    "    sigma_hat=transform_stress(sigma,trans_mat)\n",
    "    plot(sigma_hat[0,0],sigma_hat[0,1],'ro')\n",
    "    plot(sigma_hat[1,1],-sigma_hat[0,1],'kx')\n",
    "    \n",
    "    ## the line connecting the two stress coorindates\n",
    "    x=[sigma_hat[0,0],sigma_hat[1,1]]\n",
    "    y=[sigma_hat[0,1],-sigma_hat[0,1]]\n",
    "    \n",
    "    plot(x,y,'-',color='gray',alpha=0.3)\n",
    "    \n",
    "gca().set_aspect('equal')"
   ]
  },
  {
   "cell_type": "markdown",
   "metadata": {},
   "source": [
    "## 3D Mohr Circle"
   ]
  },
  {
   "cell_type": "code",
   "execution_count": 8,
   "metadata": {
    "collapsed": false
   },
   "outputs": [
    {
     "data": {
      "text/plain": [
       "array([ 4,  5, 33])"
      ]
     },
     "execution_count": 8,
     "metadata": {},
     "output_type": "execute_result"
    }
   ],
   "source": [
    "np.sort([33,4,5])"
   ]
  },
  {
   "cell_type": "code",
   "execution_count": 9,
   "metadata": {
    "collapsed": false
   },
   "outputs": [
    {
     "name": "stdout",
     "output_type": "stream",
     "text": [
      "[[  30.    0.    0.]\n",
      " [   0.   60.    0.]\n",
      " [   0.    0.  120.]]\n"
     ]
    },
    {
     "data": {
      "image/png": "[encoded data removed]",
      "text/plain": [
       "<matplotlib.figure.Figure at 0x111165310>"
      ]
     },
     "metadata": {},
     "output_type": "display_data"
    }
   ],
   "source": [
    "nsample = 200\n",
    "th1=np.linspace(0.,180.,nsample)\n",
    "th2=np.linspace(0.,180.,nsample)\n",
    "th3=np.linspace(0.,180.,nsample)\n",
    "\n",
    "## we start with a stress state in the principal space\n",
    "## That way, rotation about e1,e2,e3 occurs in the planes of principal space.\n",
    "## Start with a non-principal stress state (with shear components) and observe how\n",
    "## the circles are 'deviated' from the Mohr circle you know of.\n",
    "s=[30,60,120,0,0,0]\n",
    "sigma=gen_stress(s)\n",
    "print sigma\n",
    "\n",
    "n_repeat=nsample\n",
    "\n",
    "s12=np.zeros((2,n_repeat*2))\n",
    "s23=np.zeros((2,n_repeat*2))\n",
    "s13=np.zeros((2,n_repeat*2))\n",
    "\n",
    "for i in xrange(n_repeat):\n",
    "    ## -----------     (s12)\n",
    "    th_1=th1[i]\n",
    "    trans_mat = trans_matrix(0.,0.,th_1) \n",
    "    sigma_hat = transform_stress(sigma,trans_mat)\n",
    "    \n",
    "    xx=sigma_hat[0,0]\n",
    "    yy=sigma_hat[1,1]\n",
    "    xy=sigma_hat[0,1]\n",
    "    s12[0,i]=max(xx,yy)\n",
    "    s12[1,i]=xy\n",
    "    \n",
    "    s12[0,-1-i]=min(xx,yy)\n",
    "    s12[1,-1-i]=-xy\n",
    "    \n",
    "    xx=sigma_hat[0,0]\n",
    "    yy=sigma_hat[2,2]\n",
    "    xy=sigma_hat[0,2]\n",
    "    \n",
    "    \n",
    "    ## ----------- (s13)\n",
    "    th_2=th2[i]\n",
    "    trans_mat = trans_matrix(0.,th_2,0.)\n",
    "    sigma_hat = transform_stress(sigma,trans_mat)\n",
    "\n",
    "    xx=sigma_hat[0,0]\n",
    "    yy=sigma_hat[2,2]\n",
    "    xy=sigma_hat[0,2]\n",
    "    s13[0,i]=max(xx,yy)\n",
    "    s13[1,i]=xy\n",
    "    \n",
    "    s13[0,-1-i]=min(xx,yy)\n",
    "    s13[1,-1-i]=-xy\n",
    "    \n",
    "    \n",
    "    ## ------------ (s23)\n",
    "    th_3=th3[i]\n",
    "    trans_mat = trans_matrix(th_3,0,0)\n",
    "    sigma_hat = transform_stress(sigma,trans_mat)\n",
    "\n",
    "    xx=sigma_hat[1,1]\n",
    "    yy=sigma_hat[2,2]\n",
    "    xy=sigma_hat[1,2]\n",
    "    s23[0,i]=max(xx,yy)\n",
    "    s23[1,i]=xy\n",
    "    \n",
    "    s23[0,-1-i]=min(xx,yy)\n",
    "    s23[1,-1-i]=-xy\n",
    "\n",
    "\n",
    "plot(s12[0,:],s12[1,:],'-r',label=r'$\\sigma_{12}$')\n",
    "plot(s12[0,0],s12[1,0],'or')\n",
    "plot(s12[0,-1],s12[1,-1],'or')\n",
    "\n",
    "plot(s23[0,:],s23[1,:],'-b',label=r'$\\sigma_{23}$')\n",
    "plot(s23[0,0],s23[1,0],'ob')\n",
    "plot(s23[0,-1],s23[1,-1],'ob')\n",
    "\n",
    "plot(s13[0,:],s13[1,:],'-m',label=r'$\\sigma_{12}$')\n",
    "plot(s13[0,0],s13[1,0],'om')\n",
    "plot(s13[0,-1],s13[1,-1],'om')\n",
    "\n",
    "\n",
    "legend(bbox_to_anchor=(1,1))\n",
    "gca().set_aspect('equal')"
   ]
  }
 ],
 "metadata": {
  "kernelspec": {
   "display_name": "Python [default]",
   "language": "python",
   "name": "python2"
  },
  "language_info": {
   "codemirror_mode": {
    "name": "ipython",
    "version": 2
   },
   "file_extension": ".py",
   "mimetype": "text/x-python",
   "name": "python",
   "nbconvert_exporter": "python",
   "pygments_lexer": "ipython2",
   "version": "2.7.13"
  }
 },
 "nbformat": 4,
 "nbformat_minor": 2
}
